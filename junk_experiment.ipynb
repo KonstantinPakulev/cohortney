{
 "cells": [
  {
   "cell_type": "code",
   "execution_count": 1,
   "metadata": {},
   "outputs": [],
   "source": [
    "import torch\n",
    "import time\n",
    "import numpy as np\n",
    "from src.utils.metrics import purity, info_score\n",
    "from src.utils.os_utils import create_folder\n",
    "import math\n",
    "from sklearn.cluster import KMeans\n",
    "from src.networks.lstm_pp import LSTMMultiplePointProcesses \n",
    "from src.dataset.random_seq import RandomGeneratedSequences\n",
    "from junk_trainer import TrainerClusterwise"
   ]
  },
  {
   "cell_type": "code",
   "execution_count": 2,
   "metadata": {},
   "outputs": [],
   "source": [
    "path = 'src/dataset/sin_K2_C5/'\n",
    "n_steps = 8\n",
    "n_clusters = 10\n",
    "n_runs = 10\n",
    "n_events = 7\n",
    "dataset = RandomGeneratedSequences(path, num_of_event_types=n_events, num_of_steps=n_steps)\n",
    "device = torch.device('cuda:6' if torch.cuda.is_available() else 'cpu')"
   ]
  },
  {
   "cell_type": "code",
   "execution_count": 3,
   "metadata": {},
   "outputs": [],
   "source": [
    "data, target = [], []\n",
    "for x, y in dataset:\n",
    "    data.append(x), target.append(y)\n",
    "data = torch.stack(data)\n",
    "target = torch.stack(target)"
   ]
  },
  {
   "cell_type": "code",
   "execution_count": null,
   "metadata": {},
   "outputs": [],
   "source": [
    "# preparing folders\n",
    "create_folder('experiments')\n",
    "exp_folder = 'experiments/'\n",
    "create_folder('experiments/results')\n",
    "path_to_results = 'experiments/results'\n",
    "\n",
    "# iterations over runs\n",
    "i = 0\n",
    "while i < n_runs:\n",
    "    model = LSTMMultiplePointProcesses(input_size=n_events+1, hidden_size=20, num_layers=3, num_classes=n_events, num_clusters=n_clusters, n_steps=n_steps).to(device) \n",
    "    optimizer = torch.optim.Adam(model.parameters()) \n",
    "    best_model_path = path_to_results + '/exp_{}'.format(i) + '/best_model.pt'\n",
    "    create_folder(path_to_results + '/exp_{}'.format(i))\n",
    "    exp_folder = path_to_results + '/exp_{}'.format(i)\n",
    "    trainer = TrainerClusterwise(model, optimizer, device, data, n_clusters, target=target)\n",
    "    losses, results, cluster_part, stats = trainer.train()\n",
    "\n",
    "    # results check\n",
    "    if cluster_part is None:\n",
    "        print('Solution failed')\n",
    "        continue\n",
    "\n",
    "    # saving results\n",
    "    with open(exp_folder + '/losses.pkl', 'wb') as f:\n",
    "        pickle.dump(losses, f)\n",
    "    with open(exp_folder + '/results.pkl', 'wb') as f:\n",
    "        pickle.dump(results, f)\n",
    "    with open(exp_folder + '/stats.pkl', 'wb') as f:\n",
    "        pickle.dump(stats, f)\n",
    "    with open(exp_folder + '/args.json', 'w') as f:\n",
    "        json.dump(vars(args), f)\n",
    "    torch.save(trainer.model, exp_folder + '/last_model.pt')\n",
    "    i += 1"
   ]
  },
  {
   "cell_type": "code",
   "execution_count": null,
   "metadata": {},
   "outputs": [],
   "source": []
  }
 ],
 "metadata": {
  "kernelspec": {
   "display_name": "Python 3",
   "language": "python",
   "name": "python3"
  },
  "language_info": {
   "codemirror_mode": {
    "name": "ipython",
    "version": 3
   },
   "file_extension": ".py",
   "mimetype": "text/x-python",
   "name": "python",
   "nbconvert_exporter": "python",
   "pygments_lexer": "ipython3",
   "version": "3.8.5"
  }
 },
 "nbformat": 4,
 "nbformat_minor": 4
}
